{
  "nbformat": 4,
  "nbformat_minor": 0,
  "metadata": {
    "colab": {
      "provenance": [],
      "authorship_tag": "ABX9TyMudNHwnGvEHUqpBBnpAvBD",
      "include_colab_link": true
    },
    "kernelspec": {
      "name": "python3",
      "display_name": "Python 3"
    },
    "language_info": {
      "name": "python"
    }
  },
  "cells": [
    {
      "cell_type": "markdown",
      "metadata": {
        "id": "view-in-github",
        "colab_type": "text"
      },
      "source": [
        "<a href=\"https://colab.research.google.com/github/PurvanshBarodia/Backorder-Prediction/blob/main/Backorder_Prediction.ipynb\" target=\"_parent\"><img src=\"https://colab.research.google.com/assets/colab-badge.svg\" alt=\"Open In Colab\"/></a>"
      ]
    },
    {
      "cell_type": "markdown",
      "source": [
        "**Project Title** : Backorder Prediction\n",
        "\n",
        "**Technologies** : Machine Learning Technology\n",
        "\n",
        "**Domain** : Ecommerce\n",
        "\n",
        "**Project Difficulties level** : Intermediate\n"
      ],
      "metadata": {
        "id": "p3V6jFXmwKBN"
      }
    },
    {
      "cell_type": "markdown",
      "source": [
        "*Terms:*\n",
        "\n",
        "**Backorder**: \n",
        "This are the order which company can not fullfill at a preset.\n",
        "\n",
        "It results in delayed delevery of the product which actully result into customer's in unsetisfaction that eventually result into lose of customer.\n",
        "\n",
        "We are living in the times where compnies are devloping habit of inpesence form the model like delevery in 15 minute.\n",
        "\n",
        "watch video for more explaination: https://tinyurl.com/33sd3nwv\n",
        "\n",
        "**ERP**:\n",
        "Enterprice Resource Planning\n",
        "\n",
        "watch video for more explaination: https://tinyurl.com/2p833d2e"
      ],
      "metadata": {
        "id": "Elzp1JExw464"
      }
    },
    {
      "cell_type": "markdown",
      "source": [
        "**Problem Statement:**\n",
        "\n",
        "Backorders are unavoidable, but by anticipating which things will be backordered, planning can be streamlined at several levels, **preventing unexpected strain on production, logistics, and transportation.** ERP systems generate a lot of data (mainly structured) and also contain a lot of historical data; if this data can be properly utilized, a predictive model to forecast backorders and plan accordingly can be constructed. **Based on past data from inventories, supply chain, and sales, classify the products as going into backorder (Yes or No).**"
      ],
      "metadata": {
        "id": "OfJ0fnJdzV5U"
      }
    },
    {
      "cell_type": "markdown",
      "source": [
        "**Dataset:**\n",
        "\n",
        "Link: https://tinyurl.com/2au43psv"
      ],
      "metadata": {
        "id": "dwW_BXfYzpqB"
      }
    },
    {
      "cell_type": "code",
      "source": [
        "## Step:0 Import all neccesary libraries\n",
        "\n",
        "import pandas as pd\n",
        "import numpy as np\n",
        "import matplotlib.pyplot as plt\n",
        "import seaborn as sns"
      ],
      "metadata": {
        "id": "4MCpa-9S_io2"
      },
      "execution_count": 3,
      "outputs": []
    },
    {
      "cell_type": "code",
      "source": [
        "## Step:1 Get the Dataset\n",
        "\n",
        "train_df = pd.read_csv('Kaggle_Training_Dataset_v2.csv')\n",
        "test_df = pd.read_csv('Kaggle_Test_Dataset_v2.csv')"
      ],
      "metadata": {
        "colab": {
          "base_uri": "https://localhost:8080/"
        },
        "id": "opZqGoVd_K1w",
        "outputId": "1b602aa5-775f-4ca4-ef5c-56c5d05e50a9"
      },
      "execution_count": 5,
      "outputs": [
        {
          "output_type": "stream",
          "name": "stderr",
          "text": [
            "/usr/local/lib/python3.8/dist-packages/IPython/core/interactiveshell.py:3326: DtypeWarning: Columns (0) have mixed types.Specify dtype option on import or set low_memory=False.\n",
            "  exec(code_obj, self.user_global_ns, self.user_ns)\n"
          ]
        }
      ]
    },
    {
      "cell_type": "code",
      "source": [],
      "metadata": {
        "id": "ACKlCxA2Mof0"
      },
      "execution_count": null,
      "outputs": []
    }
  ]
}